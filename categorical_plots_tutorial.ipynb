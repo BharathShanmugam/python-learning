{
 "cells": [
  {
   "cell_type": "code",
   "execution_count": null,
   "id": "be72db8c",
   "metadata": {},
   "outputs": [],
   "source": [
    "import numpy as np\n",
    "import pandas as pd\n",
    "import matplotlib.pyplot as plt\n",
    "import seaborn as sns\n",
    "# Load the dataset\n",
    "df = pd.read_csv(\"dm_office_sales.csv\")\n",
    "df.head()"
   ]
  },
  {
   "cell_type": "markdown",
   "id": "b89ddf0d",
   "metadata": {},
   "source": [
    "## Scenario 1: Countplot\n",
    "\n",
    "**Scenario:** Imagine you and your classmates belong to different school divisions, and you want to know how many students are in each division.\n",
    "\n",
    "**Use:** The `countplot` helps show the number of occurrences of each category, such as the number of students per division."
   ]
  },
  {
   "cell_type": "code",
   "execution_count": null,
   "id": "3c6004c4",
   "metadata": {},
   "outputs": [],
   "source": [
    "# Countplot of the 'division' column\n",
    "plt.figure(figsize=(10,4),dpi=200)\n",
    "sns.countplot(x='division', data=df)\n",
    "plt.title('Count of Students in Each School Division')\n",
    "plt.show()"
   ]
  },
  {
   "cell_type": "markdown",
   "id": "c7a12f31",
   "metadata": {},
   "source": [
    "## Scenario 2: Countplot with Hue\n",
    "\n",
    "**Scenario:** Let’s say you want to break down the number of students by their level of education, and within that, you want to see the breakdown by training level.\n",
    "\n",
    "**Use:** Adding the `hue` parameter to `countplot` allows you to visualize categories within another category."
   ]
  },
  {
   "cell_type": "code",
   "execution_count": null,
   "id": "07127003",
   "metadata": {},
   "outputs": [],
   "source": [
    "# Countplot with hue for 'level of education' and 'training level'\n",
    "plt.figure(figsize=(10,4),dpi=200)\n",
    "sns.countplot(x='level of education', data=df, hue='training level')\n",
    "plt.title('Count of Students by Education Level and Training Level')\n",
    "plt.show()"
   ]
  },
  {
   "cell_type": "markdown",
   "id": "1a9f0a39",
   "metadata": {},
   "source": [
    "## Scenario 3: Countplot with Custom Palette\n",
    "\n",
    "**Scenario:** Suppose you want to make your chart more visually appealing. You can adjust the color palette to make it easier to distinguish between categories.\n",
    "\n",
    "**Use:** Customize the palette of your plots to suit the data or make it more visually appealing."
   ]
  },
  {
   "cell_type": "code",
   "execution_count": null,
   "id": "2a1359b1",
   "metadata": {},
   "outputs": [],
   "source": [
    "# Countplot with a custom palette\n",
    "plt.figure(figsize=(10,4),dpi=200)\n",
    "sns.countplot(x='level of education', data=df, hue='training level', palette='Set1')\n",
    "plt.title('Count of Students by Education Level and Training Level with Custom Colors')\n",
    "plt.show()"
   ]
  },
  {
   "cell_type": "markdown",
   "id": "de352fad",
   "metadata": {},
   "source": [
    "## Scenario 4: Barplot\n",
    "\n",
    "**Scenario:** Imagine you want to compare the average scores of students across different education levels. A `barplot` will show the average values of a continuous variable (like scores) for each category (like education level).\n",
    "\n",
    "**Use:** `barplot` allows you to plot an average or another summary statistic, helping you visualize differences in continuous data between categories."
   ]
  },
  {
   "cell_type": "code",
   "execution_count": null,
   "id": "0a54185f",
   "metadata": {},
   "outputs": [],
   "source": [
    "# Barplot showing average salary by education level\n",
    "plt.figure(figsize=(10,6),dpi=200)\n",
    "sns.barplot(x='level of education', y='salary', data=df, estimator=np.mean, ci='sd')\n",
    "plt.title('Average Salary by Education Level')\n",
    "plt.show()"
   ]
  },
  {
   "cell_type": "markdown",
   "id": "5e5d7195",
   "metadata": {},
   "source": [
    "## Scenario 5: Barplot with Hue\n",
    "\n",
    "**Scenario:** Let’s say you want to compare the average salary across different education levels, but you also want to see how this varies across different divisions (like school branches).\n",
    "\n",
    "**Use:** Add the `hue` parameter to a `barplot` to visualize how an additional category breaks down the data."
   ]
  },
  {
   "cell_type": "code",
   "execution_count": null,
   "id": "8e5780cb",
   "metadata": {},
   "outputs": [],
   "source": [
    "# Barplot with hue to compare average salary by division\n",
    "plt.figure(figsize=(12,6),dpi=100)\n",
    "sns.barplot(x='level of education', y='salary', data=df, estimator=np.mean, ci='sd', hue='division')\n",
    "plt.title('Average Salary by Education Level and Division')\n",
    "plt.legend(bbox_to_anchor=(1.05, 1))\n",
    "plt.show()"
   ]
  },
  {
   "cell_type": "markdown",
   "id": "7895c6d7",
   "metadata": {},
   "source": [
    "These examples showcase how categorical data can be visualized using different methods in Seaborn, making it easier to understand trends and group-wise comparisons."
   ]
  }
 ],
 "metadata": {},
 "nbformat": 4,
 "nbformat_minor": 5
}
