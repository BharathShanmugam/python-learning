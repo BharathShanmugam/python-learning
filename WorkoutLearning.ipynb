{
 "cells": [
  {
   "cell_type": "code",
   "execution_count": 1,
   "id": "2ab439d0",
   "metadata": {},
   "outputs": [],
   "source": [
    "num1=11"
   ]
  },
  {
   "cell_type": "code",
   "execution_count": 2,
   "id": "10f5f8aa",
   "metadata": {},
   "outputs": [],
   "source": [
    "num2=num1"
   ]
  },
  {
   "cell_type": "code",
   "execution_count": 3,
   "id": "dfd2c61d",
   "metadata": {},
   "outputs": [
    {
     "name": "stdout",
     "output_type": "stream",
     "text": [
      "11\n",
      "11\n"
     ]
    }
   ],
   "source": [
    "print (num1)\n",
    "print(num2)"
   ]
  },
  {
   "cell_type": "code",
   "execution_count": 4,
   "id": "551aba81",
   "metadata": {},
   "outputs": [
    {
     "name": "stdout",
     "output_type": "stream",
     "text": [
      "33\n",
      "11\n"
     ]
    }
   ],
   "source": [
    "num1=33\n",
    "print (num1)\n",
    "print(num2)"
   ]
  },
  {
   "cell_type": "code",
   "execution_count": 5,
   "id": "70fcfcb4",
   "metadata": {},
   "outputs": [],
   "source": [
    "va1={\"value\":88}"
   ]
  },
  {
   "cell_type": "code",
   "execution_count": 8,
   "id": "8fb148be",
   "metadata": {},
   "outputs": [],
   "source": [
    "val2=va1\n",
    "val3=val2"
   ]
  },
  {
   "cell_type": "code",
   "execution_count": 12,
   "id": "6efd41ea",
   "metadata": {},
   "outputs": [
    {
     "name": "stdout",
     "output_type": "stream",
     "text": [
      "{'value': 99}\n",
      "{'value': 99}\n"
     ]
    }
   ],
   "source": [
    "print (va1)\n",
    "print(val2)"
   ]
  },
  {
   "cell_type": "code",
   "execution_count": 13,
   "id": "983d8e8d",
   "metadata": {},
   "outputs": [
    {
     "data": {
      "text/plain": [
       "{'value': 99}"
      ]
     },
     "execution_count": 13,
     "metadata": {},
     "output_type": "execute_result"
    }
   ],
   "source": [
    "val3"
   ]
  },
  {
   "cell_type": "code",
   "execution_count": 11,
   "id": "62fbe877",
   "metadata": {},
   "outputs": [],
   "source": [
    "va1[\"value\"]=99"
   ]
  },
  {
   "cell_type": "code",
   "execution_count": 14,
   "id": "bd2228fa",
   "metadata": {},
   "outputs": [],
   "source": [
    "def fa(o):\n",
    "    for i in range (o):\n",
    "        print(i)"
   ]
  },
  {
   "cell_type": "code",
   "execution_count": 15,
   "id": "37c4f9f1",
   "metadata": {},
   "outputs": [
    {
     "name": "stdout",
     "output_type": "stream",
     "text": [
      "0\n",
      "1\n",
      "2\n",
      "3\n",
      "4\n"
     ]
    }
   ],
   "source": [
    "fa(5)"
   ]
  },
  {
   "cell_type": "code",
   "execution_count": 40,
   "id": "76afcb61",
   "metadata": {},
   "outputs": [],
   "source": [
    "def ob(o):\n",
    "    for i in range (o):\n",
    "        print(i)\n",
    "    for j in range (o):\n",
    "        print(j)\n",
    "    print()"
   ]
  },
  {
   "cell_type": "code",
   "execution_count": 41,
   "id": "2312bf5a",
   "metadata": {},
   "outputs": [
    {
     "name": "stdout",
     "output_type": "stream",
     "text": [
      "0\n",
      "1\n",
      "2\n",
      "3\n",
      "4\n",
      "0\n",
      "1\n",
      "2\n",
      "3\n",
      "4\n",
      "\n"
     ]
    }
   ],
   "source": [
    "ob(5)"
   ]
  },
  {
   "cell_type": "code",
   "execution_count": 46,
   "id": "7974a512",
   "metadata": {},
   "outputs": [],
   "source": [
    "def o2(o):\n",
    "    for i in range (o):\n",
    "        for j in range (i):\n",
    "            print(i,j)\n",
    "#             print(f\"this is  i {i},this is j {j}\")\n",
    "    "
   ]
  },
  {
   "cell_type": "code",
   "execution_count": 47,
   "id": "7ec268a1",
   "metadata": {},
   "outputs": [
    {
     "name": "stdout",
     "output_type": "stream",
     "text": [
      "1 0\n",
      "2 0\n",
      "2 1\n",
      "3 0\n",
      "3 1\n",
      "3 2\n",
      "4 0\n",
      "4 1\n",
      "4 2\n",
      "4 3\n"
     ]
    }
   ],
   "source": [
    "o2(5)"
   ]
  },
  {
   "cell_type": "code",
   "execution_count": 35,
   "id": "54518d8e",
   "metadata": {},
   "outputs": [],
   "source": [
    "for i in range(0):\n",
    "    print(i)\n",
    "    print"
   ]
  },
  {
   "cell_type": "code",
   "execution_count": null,
   "id": "619a37ba",
   "metadata": {},
   "outputs": [],
   "source": []
  }
 ],
 "metadata": {
  "kernelspec": {
   "display_name": "pythonpractice",
   "language": "python",
   "name": "pythonpractice"
  },
  "language_info": {
   "codemirror_mode": {
    "name": "ipython",
    "version": 3
   },
   "file_extension": ".py",
   "mimetype": "text/x-python",
   "name": "python",
   "nbconvert_exporter": "python",
   "pygments_lexer": "ipython3",
   "version": "3.12.3"
  }
 },
 "nbformat": 4,
 "nbformat_minor": 5
}
