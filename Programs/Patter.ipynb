{
 "cells": [
  {
   "cell_type": "markdown",
   "id": "2509b195",
   "metadata": {},
   "source": [
    "# Breakdown of the Nested Loops\n",
    "\n",
    "## Outer Loop: `for row in range(1, no_row + 1)`\n",
    "This loop iterates over `row` from `1` to `no_row` (inclusive).  \n",
    "For example, if `no_row` is `4`, `row` will take the values `1`, `2`, `3`, and `4` in successive iterations.\n",
    "\n",
    "## Inner Loop: `for colum in range(1, row + 1)`\n",
    "This loop runs for each value of `row` and iterates over `colum` from `1` to `row` (inclusive).  \n",
    "The number of iterations in this loop depends on the current value of `row`:\n",
    "- If `row = 1`: The inner loop runs **once** (for `colum = 1`).\n",
    "- If `row = 2`: The inner loop runs **twice** (for `colum = 1` and `colum = 2).\n",
    "- If `row = 3`: The inner loop runs **three times** (for `colum = 1`, `2`, and `3`).\n",
    "- If `row = 4`: The inner loop runs **four times** (for `colum = 1`, `2`, `3`, and `4`).\n"
   ]
  },
  {
   "cell_type": "code",
   "execution_count": 1,
   "id": "0d65c66d",
   "metadata": {},
   "outputs": [
    {
     "name": "stdout",
     "output_type": "stream",
     "text": [
      "Enter a num: 5\n",
      "1 \n",
      "2 2 \n",
      "3 3 3 \n",
      "4 4 4 4 \n",
      "5 5 5 5 5 \n",
      "Enter a num: 5\n",
      "*\n",
      "* *\n",
      "* * *\n",
      "* * * *\n",
      "* * * * *\n"
     ]
    }
   ],
   "source": [
    "no_row=int(input(\"Enter a num: \"))\n",
    "for row in range(1,no_row+1):\n",
    "    for colum in range (1,row+1):\n",
    "        print(row,end=\" \")\n",
    "    print()\n",
    "    \n",
    "    \n",
    "no_row = int(input(\"Enter a num: \"))  \n",
    "for row in range(1, no_row + 1):      \n",
    "    print(\" \".join([\"*\"] * row))        "
   ]
  },
  {
   "cell_type": "code",
   "execution_count": 2,
   "id": "fa24776f",
   "metadata": {},
   "outputs": [
    {
     "name": "stdout",
     "output_type": "stream",
     "text": [
      "Enter a num: 5\n",
      "4 4 4 4 \n",
      "3 3 3 \n",
      "2 2 \n",
      "1 \n"
     ]
    }
   ],
   "source": [
    "no_row=int(input(\"Enter a num: \"))\n",
    "for row in range(no_row-1,0,-1):\n",
    "    for col in range(row):\n",
    "        print(row,end=\" \")\n",
    "    print()"
   ]
  },
  {
   "cell_type": "code",
   "execution_count": 3,
   "id": "27ca3f65",
   "metadata": {},
   "outputs": [
    {
     "name": "stdout",
     "output_type": "stream",
     "text": [
      "10 10 10 10 10 10 10 10 10 10 \n",
      "9 9 9 9 9 9 9 9 9 \n",
      "8 8 8 8 8 8 8 8 \n",
      "7 7 7 7 7 7 7 \n",
      "6 6 6 6 6 6 \n",
      "5 5 5 5 5 \n",
      "4 4 4 4 \n",
      "3 3 3 \n",
      "2 2 \n"
     ]
    }
   ],
   "source": [
    "for i in range(10,1,-1):\n",
    "    for j in range(i):\n",
    "        print(i,end=\" \")\n",
    "    print()"
   ]
  },
  {
   "cell_type": "markdown",
   "id": "969bd98b",
   "metadata": {},
   "source": [
    "# Breakdown of the Nested Loops\n",
    "\n",
    "## Outer Loop: `for row in range(no_row - 1, 0, -1)`\n",
    "This loop iterates over `row` from `no_row - 1` down to `1` (inclusive).  \n",
    "For example, if `no_row` is `4`, the values of `row` in successive iterations will be:\n",
    "- **First Iteration**: `row = 3`\n",
    "- **Second Iteration**: `row = 2`\n",
    "- **Third Iteration**: `row = 1`\n",
    "\n",
    "## Inner Loop: `for col in range(row)`\n",
    "This loop runs for each value of `row` and iterates over `col` from `0` to `row - 1` (exclusive).  \n",
    "The number of iterations in this loop depends on the current value of `row`:\n",
    "- If `row = 3`: The inner loop runs **3** times (for `col = 0, 1, 2`).\n",
    "- If `row = 2`: The inner loop runs **2** times (for `col = 0, 1`).\n",
    "- If `row = 1`: The inner loop runs **1** time (for `col = 0`).\n"
   ]
  },
  {
   "cell_type": "code",
   "execution_count": 4,
   "id": "183611b1",
   "metadata": {},
   "outputs": [
    {
     "name": "stdout",
     "output_type": "stream",
     "text": [
      "Enter a num: 5\n",
      "* * * *\n",
      "* * *\n",
      "* *\n",
      "*\n"
     ]
    }
   ],
   "source": [
    "no_row = int(input(\"Enter a num: \"))  \n",
    "for row in range(no_row - 1,0,-1):      \n",
    "    print(\" \".join([\"*\"] * row))  "
   ]
  },
  {
   "cell_type": "markdown",
   "id": "f1c11de4",
   "metadata": {},
   "source": [
    "# Breakdown of the Nested Loops\n",
    "\n",
    "## Outer Loop: `for i in range(n)`\n",
    "This loop iterates over `i` from `0` to `n - 1` (inclusive).  \n",
    "For example, if `n` is `10`, `i` will take the values `0`, `1`, `2`, ..., `9` in successive iterations.\n",
    "\n",
    "## Inner Loop: `for j in range(i)`\n",
    "This loop runs for each value of `i` and iterates over `j` from `0` to `i - 1` (exclusive).  \n",
    "The number of iterations in this loop depends on the current value of `i`:\n",
    "\n",
    "- If `i = 0`: The inner loop runs **0** times (no output).\n",
    "- If `i = 1`: The inner loop runs **1** time (for `j = 0`).\n",
    "- If `i = 2`: The inner loop runs **2** times (for `j = 0, 1`).\n",
    "- If `i = 3`: The inner loop runs **3** times (for `j = 0, 1, 2`).\n",
    "- If `i = 4`: The inner loop runs **4** times (for `j = 0, 1, 2, 3`).\n",
    "- ...\n",
    "- If `i = 9`: The inner loop runs **9** times (for `j = 0, 1, 2, 3, 4, 5, 6, 7, 8`).\n"
   ]
  },
  {
   "cell_type": "code",
   "execution_count": 6,
   "id": "8c90eac7",
   "metadata": {},
   "outputs": [
    {
     "name": "stdout",
     "output_type": "stream",
     "text": [
      "1 0\n",
      "2 0\n",
      "2 1\n",
      "3 0\n",
      "3 1\n",
      "3 2\n",
      "4 0\n",
      "4 1\n",
      "4 2\n",
      "4 3\n"
     ]
    }
   ],
   "source": [
    "n=5\n",
    "for i in range(n):\n",
    "    for j in range (i):\n",
    "        print(i,j)"
   ]
  },
  {
   "cell_type": "markdown",
   "id": "b57508cd",
   "metadata": {},
   "source": [
    "# Breakdown of the Nested Loops\n",
    "\n",
    "## Outer Loop: `for i in range(n)`\n",
    "This loop iterates over `i` from `0` to `n - 1` (inclusive).  \n",
    "For example, if `n` is `10`, `i` will take the values `0`, `1`, `2`, ..., `9` in successive iterations.\n",
    "\n",
    "## Inner Loop: `for j in range(i)`\n",
    "This loop runs for each value of `i` and iterates over `j` from `0` to `i - 1` (exclusive).  \n",
    "The number of iterations in this loop depends on the current value of `i`:\n",
    "\n",
    "- If `i = 0`: The inner loop runs **0** times (no output).\n",
    "- If `i = 1`: The inner loop runs **1** time (for `j = 0`).\n",
    "- If `i = 2`: The inner loop runs **2** times (for `j = 0, 1`).\n",
    "- If `i = 3`: The inner loop runs **3** times (for `j = 0, 1, 2`).\n",
    "- If `i = 4`: The inner loop runs **4** times (for `j = 0, 1, 2, 3`).\n",
    "- ...\n",
    "- If `i = 9`: The inner loop runs **9** times (for `j = 0, 1, 2, 3, 4, 5, 6, 7, 8`).\n"
   ]
  },
  {
   "cell_type": "code",
   "execution_count": 9,
   "id": "920c4727",
   "metadata": {},
   "outputs": [
    {
     "name": "stdout",
     "output_type": "stream",
     "text": [
      "A \n",
      "A B \n",
      "A B C \n",
      "A B C D \n",
      "A B C D E \n"
     ]
    }
   ],
   "source": [
    "n=5\n",
    "ch=65\n",
    "for i in range(1,n+1):\n",
    "    for j in range(i):\n",
    "        print(chr(ch+j),end=\" \")\n",
    "    print()\n",
    "        "
   ]
  },
  {
   "cell_type": "markdown",
   "id": "b2ffce35",
   "metadata": {},
   "source": [
    "Here's a detailed breakdown of the provided code, which prints characters based on the ASCII values starting from `ch = 65` (which corresponds to 'A'). The outer loop controls the number of lines printed, and the inner loop prints characters in each line.\n",
    "\n",
    "### Code Explanation\n",
    "\n",
    "```python\n",
    "n = 5\n",
    "ch = 65\n",
    "for i in range(1, n + 1):\n",
    "    for j in range(i):\n",
    "        print(chr(ch + j), end=\" \")\n",
    "    print()\n",
    "```\n",
    "\n",
    "### Breakdown of the Loops\n",
    "\n",
    "**Outer Loop: `for i in range(1, n + 1)`**\n",
    "- This loop iterates over `i` from `1` to `n` (inclusive).\n",
    "- If `n = 5`, `i` will take values `1`, `2`, `3`, `4`, and `5` in successive iterations.\n",
    "\n",
    "**Inner Loop: `for j in range(i)`**\n",
    "- This loop runs for each value of `i` and iterates over `j` from `0` to `i - 1` (exclusive).\n",
    "- The number of iterations in this loop depends on the current value of `i`.\n",
    "\n",
    "### Iterations Breakdown\n",
    "\n",
    "1. **i = 1**\n",
    "   - Inner Loop: `for j in range(1)`\n",
    "     - **j = 0**: `print(chr(65 + 0))` → prints `A`\n",
    "   - Output: `A`\n",
    "\n",
    "2. **i = 2**\n",
    "   - Inner Loop: `for j in range(2)`\n",
    "     - **j = 0**: `print(chr(65 + 0))` → prints `A`\n",
    "     - **j = 1**: `print(chr(65 + 1))` → prints `B`\n",
    "   - Output: `A B`\n",
    "\n",
    "3. **i = 3**\n",
    "   - Inner Loop: `for j in range(3)`\n",
    "     - **j = 0**: `print(chr(65 + 0))` → prints `A`\n",
    "     - **j = 1**: `print(chr(65 + 1))` → prints `B`\n",
    "     - **j = 2**: `print(chr(65 + 2))` → prints `C`\n",
    "   - Output: `A B C`\n",
    "\n",
    "4. **i = 4**\n",
    "   - Inner Loop: `for j in range(4)`\n",
    "     - **j = 0**: `print(chr(65 + 0))` → prints `A`\n",
    "     - **j = 1**: `print(chr(65 + 1))` → prints `B`\n",
    "     - **j = 2**: `print(chr(65 + 2))` → prints `C`\n",
    "     - **j = 3**: `print(chr(65 + 3))` → prints `D`\n",
    "   - Output: `A B C D`\n",
    "\n",
    "5. **i = 5**\n",
    "   - Inner Loop: `for j in range(5)`\n",
    "     - **j = 0**: `print(chr(65 + 0))` → prints `A`\n",
    "     - **j = 1**: `print(chr(65 + 1))` → prints `B`\n",
    "     - **j = 2**: `print(chr(65 + 2))` → prints `C`\n",
    "     - **j = 3**: `print(chr(65 + 3))` → prints `D`\n",
    "     - **j = 4**: `print(chr(65 + 4))` → prints `E`\n",
    "   - Output: `A B C D E`\n",
    "\n",
    "### Final Output\n",
    "\n",
    "Combining the outputs from all iterations, the final printed result will be:\n",
    "\n",
    "```\n",
    "A \n",
    "A B \n",
    "A B C \n",
    "A B C D \n",
    "A B C D E \n",
    "```\n",
    "\n",
    "This program effectively prints a triangle of letters, starting from 'A' up to 'E' in successive lines. Let me know if you need further clarification!"
   ]
  },
  {
   "cell_type": "code",
   "execution_count": 10,
   "id": "d6e71f05",
   "metadata": {},
   "outputs": [
    {
     "name": "stdout",
     "output_type": "stream",
     "text": [
      "\u001b[1;31merror\u001b[0m: \u001b[1mexternally-managed-environment\u001b[0m\r\n",
      "\r\n",
      "\u001b[31m×\u001b[0m This environment is externally managed\r\n",
      "\u001b[31m╰─>\u001b[0m To install Python packages system-wide, try apt install\r\n",
      "\u001b[31m   \u001b[0m python3-xyz, where xyz is the package you are trying to\r\n",
      "\u001b[31m   \u001b[0m install.\r\n",
      "\u001b[31m   \u001b[0m \r\n",
      "\u001b[31m   \u001b[0m If you wish to install a non-Debian-packaged Python package,\r\n",
      "\u001b[31m   \u001b[0m create a virtual environment using python3 -m venv path/to/venv.\r\n",
      "\u001b[31m   \u001b[0m Then use path/to/venv/bin/python and path/to/venv/bin/pip. Make\r\n",
      "\u001b[31m   \u001b[0m sure you have python3-full installed.\r\n",
      "\u001b[31m   \u001b[0m \r\n",
      "\u001b[31m   \u001b[0m If you wish to install a non-Debian packaged Python application,\r\n",
      "\u001b[31m   \u001b[0m it may be easiest to use pipx install xyz, which will manage a\r\n",
      "\u001b[31m   \u001b[0m virtual environment for you. Make sure you have pipx installed.\r\n",
      "\u001b[31m   \u001b[0m \r\n",
      "\u001b[31m   \u001b[0m See /usr/share/doc/python3.12/README.venv for more information.\r\n",
      "\r\n",
      "\u001b[1;35mnote\u001b[0m: If you believe this is a mistake, please contact your Python installation or OS distribution provider. You can override this, at the risk of breaking your Python installation or OS, by passing --break-system-packages.\r\n",
      "\u001b[1;36mhint\u001b[0m: See PEP 668 for the detailed specification.\r\n"
     ]
    }
   ],
   "source": [
    "!pip install jupyter-cling\n"
   ]
  },
  {
   "cell_type": "code",
   "execution_count": null,
   "id": "b0f2a1c9",
   "metadata": {},
   "outputs": [],
   "source": []
  }
 ],
 "metadata": {
  "kernelspec": {
   "display_name": "pythonpractice",
   "language": "python",
   "name": "pythonpractice"
  },
  "language_info": {
   "codemirror_mode": {
    "name": "ipython",
    "version": 3
   },
   "file_extension": ".py",
   "mimetype": "text/x-python",
   "name": "python",
   "nbconvert_exporter": "python",
   "pygments_lexer": "ipython3",
   "version": "3.12.3"
  }
 },
 "nbformat": 4,
 "nbformat_minor": 5
}
