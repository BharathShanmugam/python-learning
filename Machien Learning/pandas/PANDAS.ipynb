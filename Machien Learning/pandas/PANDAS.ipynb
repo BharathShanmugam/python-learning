{
 "cells": [
  {
   "cell_type": "markdown",
   "id": "5911ff03",
   "metadata": {},
   "source": [
    "SERIES"
   ]
  },
  {
   "cell_type": "code",
   "execution_count": 1,
   "id": "38ea0617",
   "metadata": {},
   "outputs": [],
   "source": [
    "import numpy as np\n",
    "import pandas as pd"
   ]
  },
  {
   "cell_type": "code",
   "execution_count": null,
   "id": "3d48ef0a",
   "metadata": {},
   "outputs": [],
   "source": []
  },
  {
   "cell_type": "code",
   "execution_count": 2,
   "id": "3ab64965",
   "metadata": {},
   "outputs": [],
   "source": [
    "myindex=[\"INDIA\",\"USA\",\"CANADA\"]"
   ]
  },
  {
   "cell_type": "code",
   "execution_count": 21,
   "id": "7c33cbb6",
   "metadata": {},
   "outputs": [],
   "source": [
    "mydata=[1947,1776,1821]"
   ]
  },
  {
   "cell_type": "code",
   "execution_count": 22,
   "id": "58c71c35",
   "metadata": {},
   "outputs": [],
   "source": [
    "mylabeldata=pd.Series(mydata,myindex)"
   ]
  },
  {
   "cell_type": "code",
   "execution_count": 23,
   "id": "a1c94e2d",
   "metadata": {},
   "outputs": [
    {
     "name": "stdout",
     "output_type": "stream",
     "text": [
      "INDIA     1947\n",
      "USA       1776\n",
      "CANADA    1821\n",
      "dtype: int64\n"
     ]
    }
   ],
   "source": [
    "print(mylabeldata)"
   ]
  },
  {
   "cell_type": "code",
   "execution_count": 24,
   "id": "605c1ded",
   "metadata": {},
   "outputs": [
    {
     "data": {
      "text/plain": [
       "INDIA     1948\n",
       "USA       1777\n",
       "CANADA    1822\n",
       "dtype: int64"
      ]
     },
     "execution_count": 24,
     "metadata": {},
     "output_type": "execute_result"
    }
   ],
   "source": [
    "mylabeldata+1"
   ]
  },
  {
   "cell_type": "code",
   "execution_count": 8,
   "id": "d77f8a3c",
   "metadata": {
    "scrolled": true
   },
   "outputs": [
    {
     "data": {
      "text/plain": [
       "'1776'"
      ]
     },
     "execution_count": 8,
     "metadata": {},
     "output_type": "execute_result"
    }
   ],
   "source": [
    "mylabeldata[\"USA\"]"
   ]
  },
  {
   "cell_type": "code",
   "execution_count": 7,
   "id": "cfae6172",
   "metadata": {},
   "outputs": [
    {
     "name": "stderr",
     "output_type": "stream",
     "text": [
      "/tmp/ipykernel_15220/355493996.py:1: FutureWarning: Series.__getitem__ treating keys as positions is deprecated. In a future version, integer keys will always be treated as labels (consistent with DataFrame behavior). To access a value by position, use `ser.iloc[pos]`\n",
      "  mylabeldata[0]\n"
     ]
    },
    {
     "data": {
      "text/plain": [
       "1947"
      ]
     },
     "execution_count": 7,
     "metadata": {},
     "output_type": "execute_result"
    }
   ],
   "source": [
    "mylabeldata[0]"
   ]
  },
  {
   "cell_type": "code",
   "execution_count": 9,
   "id": "95f13e38",
   "metadata": {},
   "outputs": [],
   "source": [
    "ages = {'Sammy':5,'Frank':10,'Spike':7}"
   ]
  },
  {
   "cell_type": "code",
   "execution_count": 14,
   "id": "19031f0d",
   "metadata": {},
   "outputs": [],
   "source": [
    "reages=pd.Series(ages)"
   ]
  },
  {
   "cell_type": "code",
   "execution_count": 17,
   "id": "21b367e5",
   "metadata": {},
   "outputs": [
    {
     "data": {
      "text/plain": [
       "np.int64(7)"
      ]
     },
     "execution_count": 17,
     "metadata": {},
     "output_type": "execute_result"
    }
   ],
   "source": [
    "reages[\"Spike\"]"
   ]
  },
  {
   "cell_type": "code",
   "execution_count": 18,
   "id": "6a9764e9",
   "metadata": {},
   "outputs": [
    {
     "data": {
      "text/plain": [
       "[1, 2, 1, 2]"
      ]
     },
     "execution_count": 18,
     "metadata": {},
     "output_type": "execute_result"
    }
   ],
   "source": [
    "[1,2]*2"
   ]
  },
  {
   "cell_type": "code",
   "execution_count": 19,
   "id": "7564e5d8",
   "metadata": {},
   "outputs": [
    {
     "data": {
      "text/plain": [
       "array([2, 4])"
      ]
     },
     "execution_count": 19,
     "metadata": {},
     "output_type": "execute_result"
    }
   ],
   "source": [
    "np.array([1,2])*2"
   ]
  },
  {
   "cell_type": "code",
   "execution_count": null,
   "id": "1dbf8a43",
   "metadata": {},
   "outputs": [],
   "source": []
  }
 ],
 "metadata": {
  "kernelspec": {
   "display_name": "pythonpractice",
   "language": "python",
   "name": "pythonpractice"
  },
  "language_info": {
   "codemirror_mode": {
    "name": "ipython",
    "version": 3
   },
   "file_extension": ".py",
   "mimetype": "text/x-python",
   "name": "python",
   "nbconvert_exporter": "python",
   "pygments_lexer": "ipython3",
   "version": "3.12.3"
  }
 },
 "nbformat": 4,
 "nbformat_minor": 5
}
