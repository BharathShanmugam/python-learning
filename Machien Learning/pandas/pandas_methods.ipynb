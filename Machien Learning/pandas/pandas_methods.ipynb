{
 "cells": [
  {
   "cell_type": "markdown",
   "id": "1563d03d",
   "metadata": {},
   "source": [
    "# Pandas Useful Methods - Explained for Everyone\n",
    "In this notebook, we will cover some useful methods and functions built into pandas. Each method will have a clear explanation, examples, and reasons for using it. These examples are simple and fun to help even kids understand them.\n",
    "\n",
    "Let's get started!"
   ]
  },
  {
   "cell_type": "code",
   "execution_count": null,
   "id": "5e0a12a9",
   "metadata": {},
   "outputs": [],
   "source": [
    "import pandas as pd\n",
    "import numpy as np\n",
    "\n",
    "# Sample data to use in examples\n",
    "df = pd.read_csv('tips.csv')\n",
    "df.head()"
   ]
  },
  {
   "cell_type": "markdown",
   "id": "f44ac59b",
   "metadata": {},
   "source": [
    "## 1. The `apply()` method\n",
    "The `apply()` method allows you to apply a function along an axis of the DataFrame. It is very useful when you want to perform custom operations on columns or rows.\n",
    "\n",
    "For example, let's say you want to extract the last four digits of a credit card number."
   ]
  },
  {
   "cell_type": "code",
   "execution_count": null,
   "id": "fd0630b1",
   "metadata": {},
   "outputs": [],
   "source": [
    "# Example for apply method\n",
    "def last_four(num):\n",
    "    return str(num)[-4:]\n",
    "\n",
    "df['last_four'] = df['CC Number'].apply(last_four)\n",
    "df.head()"
   ]
  },
  {
   "cell_type": "markdown",
   "id": "3df649d5",
   "metadata": {},
   "source": [
    "## 2. Using `apply()` with a Lambda Function\n",
    "Lambda functions allow us to write small, one-line functions. These can be applied to pandas columns easily using `apply()`.\n",
    "\n",
    "Let's say we want to calculate 18% of each total bill to see what a typical tip might be."
   ]
  },
  {
   "cell_type": "code",
   "execution_count": null,
   "id": "175c201e",
   "metadata": {},
   "outputs": [],
   "source": [
    "# Example for apply with lambda\n",
    "df['tip_18_percent'] = df['total_bill'].apply(lambda bill: bill * 0.18)\n",
    "df[['total_bill', 'tip_18_percent']].head()"
   ]
  },
  {
   "cell_type": "markdown",
   "id": "26c84918",
   "metadata": {},
   "source": [
    "## 3. The `describe()` method\n",
    "The `describe()` method gives you a quick summary of the statistics for numeric columns. It's great for getting an overview of the data.\n",
    "\n",
    "Let's see the summary of our dataset."
   ]
  },
  {
   "cell_type": "code",
   "execution_count": null,
   "id": "4062be34",
   "metadata": {},
   "outputs": [],
   "source": [
    "# Example for describe method\n",
    "df.describe()"
   ]
  },
  {
   "cell_type": "markdown",
   "id": "85d7b80a",
   "metadata": {},
   "source": [
    "## 4. The `sort_values()` method\n",
    "The `sort_values()` method is used to sort a DataFrame by one or more columns.\n",
    "\n",
    "For example, let's sort our data by the tip amount."
   ]
  },
  {
   "cell_type": "code",
   "execution_count": null,
   "id": "2554b4a4",
   "metadata": {},
   "outputs": [],
   "source": [
    "# Example for sort_values\n",
    "df_sorted = df.sort_values('tip', ascending=False)\n",
    "df_sorted.head()"
   ]
  },
  {
   "cell_type": "markdown",
   "id": "0a05583d",
   "metadata": {},
   "source": [
    "## 5. The `corr()` method\n",
    "The `corr()` method is used to find the pairwise correlation between columns in the DataFrame.\n",
    "\n",
    "Let's check the correlation between the total bill and tip."
   ]
  },
  {
   "cell_type": "code",
   "execution_count": null,
   "id": "705e10cd",
   "metadata": {},
   "outputs": [],
   "source": [
    "# Example for corr method\n",
    "df[['total_bill', 'tip']].corr()"
   ]
  },
  {
   "cell_type": "markdown",
   "id": "56ac5383",
   "metadata": {},
   "source": [
    "## 6. The `unique()` and `nunique()` methods\n",
    "The `unique()` method returns the unique values in a column, while `nunique()` returns the number of unique values.\n",
    "\n",
    "Let's check the unique sizes of the tables and how many different sizes we have."
   ]
  },
  {
   "cell_type": "code",
   "execution_count": null,
   "id": "c33f704f",
   "metadata": {},
   "outputs": [],
   "source": [
    "# Example for unique and nunique methods\n",
    "df['size'].unique()\n",
    "df['size'].nunique()"
   ]
  },
  {
   "cell_type": "markdown",
   "id": "adc7b829",
   "metadata": {},
   "source": [
    "## 7. The `duplicated()` and `drop_duplicates()` methods\n",
    "The `duplicated()` method checks for duplicate rows, and `drop_duplicates()` removes the duplicates.\n",
    "\n",
    "Let's check for duplicates in our dataset."
   ]
  },
  {
   "cell_type": "code",
   "execution_count": null,
   "id": "2729fb95",
   "metadata": {},
   "outputs": [],
   "source": [
    "# Example for duplicated and drop_duplicates\n",
    "df.duplicated().sum()\n",
    "df_cleaned = df.drop_duplicates()\n",
    "df_cleaned.head()"
   ]
  }
 ],
 "metadata": {},
 "nbformat": 4,
 "nbformat_minor": 5
}
