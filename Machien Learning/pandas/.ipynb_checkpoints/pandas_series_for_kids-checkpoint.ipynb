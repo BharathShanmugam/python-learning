{
 "cells": [
  {
   "cell_type": "markdown",
   "id": "73c11366",
   "metadata": {},
   "source": [
    "# Exploring Pandas Series \n",
    "Pandas Series is like a list where every item has a name or a label. You can think of it as a special list that can hold any type of data, not just numbers! Let’s learn how to create and work with Pandas Series using some fun examples!"
   ]
  },
  {
   "cell_type": "markdown",
   "id": "0f87e01b",
   "metadata": {},
   "source": [
    "## Step 1: Importing the Libraries\n",
    "To start using Pandas, we first need to import it! We will also use NumPy to create random numbers."
   ]
  },
  {
   "cell_type": "code",
   "execution_count": 1,
   "id": "82cf3b77",
   "metadata": {},
   "outputs": [],
   "source": [
    "import numpy as np\n",
    "import pandas as pd"
   ]
  },
  {
   "cell_type": "markdown",
   "id": "9573126d",
   "metadata": {},
   "source": [
    "## Step 2: Creating a Series from Lists\n",
    "A Series can be made from lists. Let’s say we have the independence years of some countries. We’ll create a list of years and another list with country names as labels."
   ]
  },
  {
   "cell_type": "code",
   "execution_count": 2,
   "id": "4a57d966",
   "metadata": {},
   "outputs": [
    {
     "data": {
      "text/plain": [
       "USA       1776\n",
       "Canada    1867\n",
       "Mexico    1821\n",
       "dtype: int64"
      ]
     },
     "execution_count": 2,
     "metadata": {},
     "output_type": "execute_result"
    }
   ],
   "source": [
    "myindex = ['USA','Canada','Mexico']\n",
    "mydata = [1776,1867,1821]\n",
    "myser = pd.Series(data=mydata, index=myindex)\n",
    "myser"
   ]
  },
  {
   "cell_type": "markdown",
   "id": "c9bc5e08",
   "metadata": {},
   "source": [
    "## Step 3: Random Numbers and Names\n",
    "What if we have random ages of kids and want to create a Series with their names? We can generate random numbers for their ages and then give each number a name label."
   ]
  },
  {
   "cell_type": "code",
   "execution_count": 3,
   "id": "6af1637c",
   "metadata": {},
   "outputs": [
    {
     "data": {
      "text/plain": [
       "Andrew    29\n",
       "Bobo      36\n",
       "Claire    62\n",
       "David     59\n",
       "dtype: int64"
      ]
     },
     "execution_count": 3,
     "metadata": {},
     "output_type": "execute_result"
    }
   ],
   "source": [
    "ran_data = np.random.randint(0, 100, 4)\n",
    "names = ['Andrew','Bobo','Claire','David']\n",
    "ages = pd.Series(ran_data, names)\n",
    "ages"
   ]
  },
  {
   "cell_type": "markdown",
   "id": "48b69b2a",
   "metadata": {},
   "source": [
    "## Step 4: Creating a Series from a Dictionary\n",
    "Sometimes we might already have a list of names and ages. We can use a Python dictionary to create a Series."
   ]
  },
  {
   "cell_type": "code",
   "execution_count": 4,
   "id": "215e051e",
   "metadata": {},
   "outputs": [
    {
     "data": {
      "text/plain": [
       "Sammy     5\n",
       "Frank    10\n",
       "Spike     7\n",
       "dtype: int64"
      ]
     },
     "execution_count": 4,
     "metadata": {},
     "output_type": "execute_result"
    }
   ],
   "source": [
    "ages_dict = {'Sammy': 5, 'Frank': 10, 'Spike': 7}\n",
    "ages_series = pd.Series(ages_dict)\n",
    "ages_series"
   ]
  },
  {
   "cell_type": "markdown",
   "id": "a5b31585",
   "metadata": {},
   "source": [
    "## Step 5: Working with Sales Data\n",
    "Let’s say we have some sales data from two quarters (Q1 and Q2) for different countries. We can create two Series and perform some cool operations on them."
   ]
  },
  {
   "cell_type": "code",
   "execution_count": 5,
   "id": "46a25961",
   "metadata": {},
   "outputs": [
    {
     "data": {
      "text/plain": [
       "Japan     80\n",
       "China    450\n",
       "India    200\n",
       "USA      250\n",
       "dtype: int64"
      ]
     },
     "execution_count": 5,
     "metadata": {},
     "output_type": "execute_result"
    }
   ],
   "source": [
    "q1 = {'Japan': 80, 'China': 450, 'India': 200, 'USA': 250}\n",
    "q2 = {'Brazil': 100, 'China': 500, 'India': 210, 'USA': 260}\n",
    "sales_Q1 = pd.Series(q1)\n",
    "sales_Q2 = pd.Series(q2)\n",
    "sales_Q1"
   ]
  },
  {
   "cell_type": "markdown",
   "id": "d94758fa",
   "metadata": {},
   "source": [
    "We can call values based on their labels or using numbers."
   ]
  },
  {
   "cell_type": "code",
   "execution_count": 6,
   "id": "85563100",
   "metadata": {},
   "outputs": [
    {
     "name": "stderr",
     "output_type": "stream",
     "text": [
      "/tmp/ipykernel_149461/971091860.py:3: FutureWarning: Series.__getitem__ treating keys as positions is deprecated. In a future version, integer keys will always be treated as labels (consistent with DataFrame behavior). To access a value by position, use `ser.iloc[pos]`\n",
      "  sales_Q1[0]\n"
     ]
    },
    {
     "data": {
      "text/plain": [
       "np.int64(80)"
      ]
     },
     "execution_count": 6,
     "metadata": {},
     "output_type": "execute_result"
    }
   ],
   "source": [
    "sales_Q1['Japan']\n",
    "# Or by location\n",
    "sales_Q1.i[0]"
   ]
  },
  {
   "cell_type": "markdown",
   "id": "3de32061",
   "metadata": {},
   "source": [
    "## Step 6: Series Operations\n",
    "We can perform operations like multiplying or dividing the entire Series. Let’s double the sales in Q1 and divide the Q2 sales by 100."
   ]
  },
  {
   "cell_type": "code",
   "execution_count": 7,
   "id": "4028eda6",
   "metadata": {},
   "outputs": [
    {
     "data": {
      "text/plain": [
       "Brazil    1.0\n",
       "China     5.0\n",
       "India     2.1\n",
       "USA       2.6\n",
       "dtype: float64"
      ]
     },
     "execution_count": 7,
     "metadata": {},
     "output_type": "execute_result"
    }
   ],
   "source": [
    "sales_Q1 * 2\n",
    "sales_Q2 / 100"
   ]
  },
  {
   "cell_type": "markdown",
   "id": "1c6b07fc",
   "metadata": {},
   "source": [
    "## Step 7: Combining Two Series\n",
    "We can also add two Series together. If there’s a mismatch in labels, Pandas will show `NaN` (which means Not a Number) for the missing data. Let’s add the sales from Q1 and Q2."
   ]
  },
  {
   "cell_type": "code",
   "execution_count": 8,
   "id": "7cfd9b2b",
   "metadata": {},
   "outputs": [
    {
     "data": {
      "text/plain": [
       "Brazil      NaN\n",
       "China     950.0\n",
       "India     410.0\n",
       "Japan       NaN\n",
       "USA       510.0\n",
       "dtype: float64"
      ]
     },
     "execution_count": 8,
     "metadata": {},
     "output_type": "execute_result"
    }
   ],
   "source": [
    "sales_Q1 + sales_Q2"
   ]
  },
  {
   "cell_type": "markdown",
   "id": "4d94c5fb",
   "metadata": {},
   "source": [
    "To fill the missing values, we can use the `add()` method and specify a fill value, like 0."
   ]
  },
  {
   "cell_type": "code",
   "execution_count": 9,
   "id": "ecf95e2a",
   "metadata": {},
   "outputs": [
    {
     "data": {
      "text/plain": [
       "Brazil    100.0\n",
       "China     950.0\n",
       "India     410.0\n",
       "Japan      80.0\n",
       "USA       510.0\n",
       "dtype: float64"
      ]
     },
     "execution_count": 9,
     "metadata": {},
     "output_type": "execute_result"
    }
   ],
   "source": [
    "sales_Q1.add(sales_Q2, fill_value=0)"
   ]
  },
  {
   "cell_type": "markdown",
   "id": "93ddf18c",
   "metadata": {},
   "source": [
    "## That’s it! \n",
    "You’ve learned how to create, access, and operate on Pandas Series. Now you can start playing around with your own data! Up next, we’ll learn about DataFrames, which are like multiple Series combined!"
   ]
  }
 ],
 "metadata": {
  "kernelspec": {
   "display_name": "pythonpractice",
   "language": "python",
   "name": "pythonpractice"
  },
  "language_info": {
   "codemirror_mode": {
    "name": "ipython",
    "version": 3
   },
   "file_extension": ".py",
   "mimetype": "text/x-python",
   "name": "python",
   "nbconvert_exporter": "python",
   "pygments_lexer": "ipython3",
   "version": "3.12.3"
  }
 },
 "nbformat": 4,
 "nbformat_minor": 5
}
